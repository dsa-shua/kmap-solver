{
 "cells": [
  {
   "cell_type": "markdown",
   "metadata": {},
   "source": [
    "> ### EEE2020-01: Data Structures & Algorithms\n",
    "\n",
    "# Assignment \\# VI: Graphs"
   ]
  },
  {
   "cell_type": "markdown",
   "metadata": {},
   "source": [
    "**<div style=\"text-align: right\"> Due date: December 19, 2020. </div>** \n",
    "**<div style=\"text-align: right\"> Please upload your file @ yscec by 9:00 PM. </div>** \n",
    "<div style=\"text-align: right\"> Jaehyeon Moon(문재현): <a href=\"mailto:tw02137@yonsei.ac.kr\">tw02137@yonsei.ac.kr</a> </div>\n",
    "<div style=\"text-align: right\"> Donghyeon Baek(백동현): <a href=\"mailto:dh_baek@yonsei.ac.kr\">dh_baek@yonsei.ac.kr</a> "
   ]
  },
  {
   "cell_type": "markdown",
   "metadata": {},
   "source": [
    "-------------------------------"
   ]
  },
  {
   "cell_type": "markdown",
   "metadata": {},
   "source": [
    "\n",
    "### *Assignment Instructions:*\n",
    "1. Write a program implementing a particular algorithm to solve a given problem.\n",
    "2. You can use both Korean and English for your report.\n",
    "3. **Analyze the algorithm, theoretically and empirically.** \n",
    "4. **Report your results.**   \n",
    "    - You must do assignments and labs yourself. \n",
    "    - <span style=\"color:red\">**Do not copy any part of your friends’ code.**</span>\n",
    "    - Otherwise, you will get a F grade."
   ]
  },
  {
   "cell_type": "markdown",
   "metadata": {},
   "source": [
    "-----------------"
   ]
  },
  {
   "cell_type": "markdown",
   "metadata": {},
   "source": [
    "<h2><span style=\"color:blue\">[2019142208] [Dela Rosa, Joshua]</span> </h2>"
   ]
  },
  {
   "cell_type": "code",
   "execution_count": 1,
   "metadata": {},
   "outputs": [
    {
     "name": "stdout",
     "output_type": "stream",
     "text": [
      "This code is written at 2020-12-17 20:30:15.330021\n"
     ]
    }
   ],
   "source": [
    "import datetime\n",
    "print(\"This code is written at \" + str(datetime.datetime.now()))\n",
    "\n",
    "from assignment6 import Graph, kruskal, prim, PointVertex, PointGraph, bellman_ford"
   ]
  },
  {
   "cell_type": "markdown",
   "metadata": {},
   "source": [
    "-------------------------------"
   ]
  },
  {
   "cell_type": "markdown",
   "metadata": {},
   "source": [
    "### # PROBLEM I (40 POINTS)"
   ]
  },
  {
   "cell_type": "markdown",
   "metadata": {},
   "source": [
    "`assignment6.py` 파일에 주어진 **Graph** 객체 $graph$에 대하여,\n",
    "> (a) $kruskal(graph)$ 함수를 완성하시오.   \n",
    "> 해당 함수는 **Kruskal 알고리즘**을 이용하여, 입력 받은 $graph$ (**Graph** 객체) 내의 **MST**를 찾은 후 **Graph** 객체 형태로 반환한다.   \n",
    ">\n",
    ">\n",
    "> (b) $prim(graph,\\ start\\_vertex)$ 함수를 완성하시오.  \n",
    "> 해당 함수는 **Prim 알고리즘**을 이용하여, 입력받은 $start\\_vertex$ 부터 $graph$ (**Graph** 객체) 내의 **MST**를 찾은 뒤 **Graph** 객체 형태로 반환한다.   \n",
    "\n",
    "**조건**\n",
    "> 1. `assignment6.py` 파일에 주어진 **PriorityQueue** 객체를 이용할 것.  \n",
    "> 2. `assignment6.py` 파일에 주어진 **Vertex, Graph, PriorityQueue** class를 수정하지 않을 것.\n",
    "\n",
    "Hint : 두 함수는 undirected graph에만 적용된다."
   ]
  },
  {
   "cell_type": "code",
   "execution_count": 2,
   "metadata": {},
   "outputs": [
    {
     "name": "stdout",
     "output_type": "stream",
     "text": [
      "A is connected to\n",
      "B : 1\n",
      "C : 2\n",
      "--------------------\n",
      "C is connected to\n",
      "A : 2\n",
      "D : 4\n",
      "E : 5\n",
      "F : 6\n",
      "--------------------\n",
      "F is connected to\n",
      "C : 6\n",
      "--------------------\n",
      "B is connected to\n",
      "A : 1\n",
      "--------------------\n",
      "D is connected to\n",
      "C : 4\n",
      "--------------------\n",
      "E is connected to\n",
      "C : 5\n",
      "--------------------\n"
     ]
    }
   ],
   "source": [
    "g = Graph()\n",
    "\n",
    "g.addVertex('A')\n",
    "g.addVertex('B')\n",
    "g.addVertex('C')\n",
    "g.addVertex('D')\n",
    "g.addVertex('E')\n",
    "g.addVertex('F')\n",
    "\n",
    "g.addEdge('A', 'B', 1)\n",
    "g.addEdge('B', 'A', 1)\n",
    "g.addEdge('A', 'C', 2)\n",
    "g.addEdge('C', 'A', 2)\n",
    "g.addEdge('B', 'C', 3)\n",
    "g.addEdge('C', 'B', 3)\n",
    "g.addEdge('C', 'D', 4)\n",
    "g.addEdge('D', 'C', 4)\n",
    "g.addEdge('C', 'E', 5)\n",
    "g.addEdge('E', 'C', 5)\n",
    "g.addEdge('C', 'F', 6)\n",
    "g.addEdge('F', 'C', 6)\n",
    "g.addEdge('D', 'E', 7)\n",
    "g.addEdge('E', 'D', 7)\n",
    "g.addEdge('E', 'F', 8)\n",
    "g.addEdge('F', 'E', 8)\n",
    "\n",
    "g_mst = kruskal(g)\n",
    "g_mst2 = prim(g, 'A')\n",
    "\n",
    "alphabets = ['A', 'C', 'F']\n",
    "for alpha in alphabets:\n",
    "    print(alpha, 'is connected to')\n",
    "    for k, v in g_mst.vertList[alpha].connectedTo.items():\n",
    "        print(k.getId(), ':', v)\n",
    "    print('-' * 20)\n",
    "\n",
    "remain_alphabets = ['B', 'D', 'E']\n",
    "for alpha in remain_alphabets:\n",
    "    print(alpha, 'is connected to')\n",
    "    for k, v in g_mst2.vertList[alpha].connectedTo.items():\n",
    "        print(k.getId(), ':', v)\n",
    "    print('-' * 20)"
   ]
  },
  {
   "cell_type": "markdown",
   "metadata": {},
   "source": [
    "### Description :"
   ]
  },
  {
   "cell_type": "markdown",
   "metadata": {},
   "source": [
    "For the ${kruskal()}$ function, the following steps are followed:\n",
    "> 1. Since kruskal's algorithm combines vertices as it tries to find the MST of a certain graph, two additional functions inside the ${kruskal()}$ function is included: `combine()`, which combines groups of vertices; and `search()` which looks for the group a certain vertex belongs to. A list named `clusters` are defined to put the collection of groups. `tree = Graph()` is also defined where the `tree` is to be returned as the MST of the graph. \n",
    "> 2. For the sub function `combine()`, 4 arguments are needed: `cluster1` and `cluster2` which are the groups that the algorithm is trying to combine; `vertex1` and `vertex2` which is the vertex that the algorithm is trying to link the two groups at; and `cost`, which is the cost of the edge between `vertex1` and `vertex2`. Under the `combine()` function, two situations can occur: that `cluster1` and `cluster2` are different or the same group of vertices. As per kruskal's algorithm, two clusters can be combined if and only if they are different and does not produces a loop. If the two groups to be combined are different, the two `self.vertList` is combined to an arbitrary group. For this algorithm, `cluster1` is chosen as the dominant group. Then, the two vertices are connected via their respective edge with the `cost` as the weight of the respective edge.\n",
    "> 3. Before  the `combine()` function is called, the function `search()` is defined to look for what cluster a vertex to be included to a certain cluster is needed to check if it belongs to the same cluster or not. Inside the `search()` function, it runs a for loop to check each clusters on where the certain vertex is in and returns the cluster it belongs to. \n",
    "> 4. After defining come useful functions, the actual kruskal's algorithm is run. As per the pseudocode, a for loop is run to make an elementary cluster for each vertex. Note that each cluster is a graph of its own and the vertex is added to the cluster made via the `self.addVertex()` function of the `graph` class.\n",
    "> 5. For the while loop part of the kruskal's algorithm, although the pseudo code tells that the while loop will stop once the tree's edges are *n-1* edges, our graph class does not provide any way to determine the number of edges it has nor any details about its edges. Thus, the while loop is slightly modified to stop until the `pq.heapArray.isEmpty()` condition is achieved. Eitherway, the tree would still return *n-1* edges in the end. \n",
    "> 6. Since the `pq.delMin()` only returns the vertex, *peeking* into what the `pq.delMin()` is necessary to know where the vertex is connected to and the cost of that edge. To peek, `peek = pq.heapArray[1]` is defined for the edge to be called by `pq.delMin()`, `edgeTo = peek[2]` for the other vertex connected to the edge; and `edge_cost = peek[0]` for the weight of the edge. After setting up the variables, `pq.delMin()` is then called, `agroup` and `bgroup`s are searched using the `search()` functions defined from above. Afterwards, `combine()` function is called to try to combinee the two. In the `combine()` function, the tree is updated by combining `cluster1.vertList` with the `tree.vertList`. \n",
    "> 7. After the combinination, removing used clusters when the `agroup` and `bgroup` are different. This is because, when `agroup != bgroup`, it implies that the two are combined from earlier. Thus, the `clusters` list needs to be updated. \n",
    "> 8. As soon as `pq.isEmpty()`, the while loop is stopped, and as per kruskal's algorithm, `tree` is returned as output. \n",
    "<br><br>\n",
    "\n",
    "For the ${prim()}$ function, the following steps are followed:\n",
    "> 1. Since the `start_vertex` argument's input is a string, the `start_vertex` is defined by `graph.getVertex(start_vertex)` to convert str input as an actual vertex. `pq = PriorityQueue` is also defined as per prim's algorithm. `new_g` is also defined and will be returned as the MST of the graph.\n",
    "> 2. By default, a for loop is run to set the `vertex.Distance == +infinity` and setting `vertex.pred == None`, the vertices already have these characteristics as default thus, the for loop is not required for this case. However, setting the `start_vertex.distance = 0` is still included in this problem. Then, the heap for the while loop.\n",
    "> 3. The while loop as per prim's algorithm would stop as soon as `pq.isEmpty()`. While the while loop is running, a `current_vert` is called via  `pq.delMin()` and checks all of the `nextVert` connections the vertex has and compares the different costs and sets the lowest cost as its distance. The `nextVert.pred` is also set to point towards the `current_vert`.\n",
    "> 4. Once the while loop is stopped, the graph's vertices are added to the `new_g`'s vertices and the edges of the MST are added. Since during the while loop, the `self.pred` of a vertex is points to another vertex that includes an edge of the MST of the graph, the edge is added to the `new_g` from both directions while using the `vertex.getDistance()` to get the cost of the edge. To avoid conflict with the `start_edge` as having `pred = None`, it is avoided by using an if-statement. \n",
    "> 5. Once the edges for the `new_g` are connected, it returns the `new_g` as the MST of the graph. "
   ]
  },
  {
   "cell_type": "markdown",
   "metadata": {},
   "source": [
    "-------------------------------"
   ]
  },
  {
   "cell_type": "markdown",
   "metadata": {},
   "source": [
    "### \\# PROBLEM II (60 POINTS)"
   ]
  },
  {
   "cell_type": "markdown",
   "metadata": {},
   "source": [
    "(a) 다음 조건을 만족하는 **PointGraph**, **PointVertex** class를 구현하시오.\n",
    "\n",
    "**조건**\n",
    "> 1. PointGraph는 Graph 객체 생성을 위한 class이며, $thres$(edge 연결을 위한 임계치(critical value), 조건2 참조, float 형)로 초기화된다. \n",
    ">\n",
    ">    PointVertex class은 그래프 안의 노드 생성을 위한 class이며, $key,\\ x,\\ y,\\ reward$로 초기화된다.  \n",
    ">> * $key$ : 해당 노드의 이름을 지칭한다.  \n",
    ">>\n",
    ">>\n",
    ">> * $x,\\ y$ : 해당 노드의 x, y 좌표(coordinates)를 지칭한다.\n",
    ">>\n",
    ">>\n",
    ">> * $reward$ : 해당 노드에 도달할 시 얻는 보상을 지칭한다.  \n",
    ">\n",
    ">\n",
    "> NOTE #1: 두 노드 $A,\\ B$ 간 거리는 $\\sqrt{(A.x - B.x)^{2} + (A.y - B.y)^{2}}$로 정의됨.   \n",
    "> NOTE #2: 두 노드 $A,\\ B$ 간 reward의 차이는 $A.reward\\ -\\ B.reward$로 정의됨.\n",
    ">\n",
    ">\n",
    "> 2. 각 node 사이를 연결하는 edge는 다음과 같이 할당된다.  \n",
    ">> * 두 노드 $A,\\ B$ 간 거리가 $thres$ 이상이면, 두 노드 사이는 edge로 연결하지 않는다.\n",
    ">>\n",
    ">>\n",
    ">> * 두 노드 $A,\\ B$ 간 거리가 $thres$ 미만이면, 다음과 같이 edge를 할당한다.  \n",
    ">>> * $A.reward$가 $B.reward$보다 크거나 같으면, $B$에서 $A$ 방향으로 $\\sqrt{(A.x - B.x)^{2} + (A.y - B.y)^{2}}\\ +\\ B.reward-\\ A.reward$ 의 가중치(weight)를 가지는 edge를 연결한다.  \n",
    ">>> * $B.reward$가 $A.reward$보다 크거나 같으면, 반대 방향으로 $\\sqrt{(A.x - B.x)^{2} + (A.y - B.y)^{2}}\\ +\\ A.reward-\\ B.reward$ 의 가중치(weight)를 가지는 edge를 연결한다.  \n",
    ">\n",
    ">\n",
    "> 3. PointGraph class는 다음과 같은 함수를 포함한다.\n",
    ">> * $add\\_vertex(vertex)$ : PointVertex 객체 $vertex$를 입력으로 받아, 그래프 내에 추가한다.  \n",
    "이에 따라, **조건 2**를 만족하도록 그래프 내에 edge가 추가되어야 한다.\n",
    ">>\n",
    ">>\n",
    ">> * $add\\_edge(src, dst, val)$ : PointVertex 객체 $src,\\ dst$ 노드와 사이에 edge를 추가한다. 이때 edge의 weight는 입력받은 float형 객체 $val$로 설정한다. 이미 두 노드 사이를 연결하는 edge가 있을 경우, 기존 edge의 weight를 $val$로 수정한다.\n",
    ">>\n",
    ">>\n",
    ">> * $\\_\\_str\\_\\_()$ : 그래프 내의 각 노드에 대하여 해당 노드와 directed edge로 연결된 모든 노드와의 edge weight를 출력한다. 예제를 참고할 것.\n",
    "\n",
    "(b) $bellman\\_ford(graph,\\ start\\_vertex)$ 함수를 완성하시오.  \n",
    "해당 함수는 **Bellman-Ford 알고리즘**을 이용하여, 주어진 $graph$(PointGraph 객체)의 $start\\_vertex$(PointVertex 객체)에서 출발하여 다른 모든 node까지의 shortest path를 dictionary 형태로 반환한다. \n",
    "단, negative cycle이 있을 경우 None을 반환한다."
   ]
  },
  {
   "cell_type": "code",
   "execution_count": 3,
   "metadata": {},
   "outputs": [
    {
     "name": "stdout",
     "output_type": "stream",
     "text": [
      "Node A\n",
      "B : 5.00\n",
      "C : 3.00\n",
      "Node B\n",
      "Node C\n",
      "D : 1.00\n",
      "Node D\n",
      "\n",
      "--------------------\n",
      "Node A\n",
      "B : 5.00\n",
      "C : 3.00\n",
      "Node B\n",
      "C : -4.00\n",
      "Node C\n",
      "D : 1.00\n",
      "Node D\n",
      "\n"
     ]
    }
   ],
   "source": [
    "a = PointVertex('A', 0, 0, 0)\n",
    "b = PointVertex('B', 6, 0, 1)\n",
    "c = PointVertex('C', 0, 5, 2)\n",
    "d = PointVertex('D', 0, 7, 3)\n",
    "\n",
    "g = PointGraph(7)\n",
    "g.add_vertex(a)\n",
    "g.add_vertex(b)\n",
    "g.add_vertex(c)\n",
    "g.add_vertex(d)\n",
    "\n",
    "print(g)\n",
    "print('-' * 20)\n",
    "g.add_edge(b, c, -4)\n",
    "print(g)"
   ]
  },
  {
   "cell_type": "code",
   "execution_count": 4,
   "metadata": {},
   "outputs": [
    {
     "data": {
      "text/plain": [
       "{'A': 0, 'B': 5.0, 'C': 1.0, 'D': 2.0}"
      ]
     },
     "execution_count": 4,
     "metadata": {},
     "output_type": "execute_result"
    }
   ],
   "source": [
    "bellman_ford(g, a)"
   ]
  },
  {
   "cell_type": "markdown",
   "metadata": {},
   "source": [
    "### Description :"
   ]
  },
  {
   "cell_type": "markdown",
   "metadata": {},
   "source": [
    "####  ${PointGraph}$ class;\n",
    "<b><u>__init__(self, thres)</u></b>\n",
    "> To initialize the class, the ${thres}$ of the graph as indicated by the problem is defined as `self.thres = float(thres)` as well as the graph's vertices and edges into dictionaries for later use. \n",
    "\n",
    "<br>\n",
    "<b><u>add_vertex(self, vertex)</u></b>\n",
    "\n",
    "> While adding the vertex into the graph, the vertex is automatically connected to all of the other vertices whose distance to itself is less than the `thres` of the graph, else not. Hence, after adding the vertex, the vertex is compared with other vertices to find if the two vertices can be connected by an edge as per the problem. To avoid connecting the vertex to itself, an if-statement is used. If not, then the other vertex's x,y coordinates as well as the `reward` is collected into variables `x2` `y2` and `r2` respectively. The current vertex's coordinates and reward are also defined in a similar manner beforehand. As per the problem, the distance is solved by using the following lines of code:\n",
    ">\n",
    ">                           `res_in = (x1-x2)**2 + (y1-y2)**2`\n",
    ">                           `dis = math.sqrt(res_in)`\n",
    ">\n",
    "> Then `dis` is compared to the `graph.thres` to confirm if two vertices can be connected by a common edge. If so, then the rewards are compared as per the prompt. If `r1 > r2`, `ret_r = r2 - r1` then `weight = dis + ret_r`. The weight computed is then used to call `self.add_edge(self.vertices[key], vertex, weight)` which connects the other vertex towards the current vertex *(B --> A)*. Else if `r1 < r2`, then `ret_r = r1 - r2`, `weight = dis + ret_r` then `self.add_edge(vertex, self.vertices[key], weight)` *(A --> B)* as per the problem. Else if `r1 == r2`, the edge becomes a two way edge and does the two conditions above, connecting A to B and B to A with their respective weights defined by the formulas for `r1 > r2` and `r1 < r2`. \n",
    "\n",
    "<br>\n",
    "<b><u>add_edge(self, src, dst, val)</u></b>\n",
    "\n",
    "> First, the way on how to define the `edge_key` is of great importance as it can affect how other functions recognize the specific edge. If the edge only contains the starting point, it would require another step to determine where it is heading towards. Thus, the `edge_key` is defined as follows: `edge_key = str(src.key) + \" --> \" + str(dst.key)`. This way of naming the edge compromises the searchability however it greatly improves the knowability of what the edge is by just looking at the key name in the `self.edges` dictionary.\n",
    ">\n",
    "> As per the problem, an edge can be added either by adding a vertex or explicitly adding an edge by calling the function itself. Thus, an if-statement is used to distinguish the two. First, if `edge_key not in self.edges`, then the edge is directly added to the `self.edges` via the line `self.edges[edge_key] = [src, dst, val]`. Else, if the edge currently exists, the weight value is changed by using the input `val` as the new weight of the said edge. \n",
    "\n",
    "\n",
    "<br>\n",
    "<b><u>__str__(self)</u></b>\n",
    "\n",
    "> To overload the string function, each vertex is printed using a for loop as well as its edgees via another for loop. To accurately follow the given example output, the destination of the edge (`to`) as well as the weight of the said edge (`wei`) with two decimal places is printed using the following line of code:\n",
    ">\n",
    ">                       `print(to, \":\", \"{:.2f}\".format(wei))`\n",
    "> Since overloading the string function requires to return a string, `return \"\"` is used  which also seems to be the case by observing the output example as there is a blank space between the outputs  of the lines `print(g)` and `print('-' * 20)`.\n",
    "\n",
    "<br><br>\n",
    "\n",
    "####  ${PointVertex}$ class;\n",
    "<b><u>__init__(self, thres)</u></b>\n",
    "> To initiate the class, the key, x-coordinate, y-coordinate, and the reward are defined as per the problem. In addition, connections, distance, compiled (`[self.x, self.y, self.reward]`)and the pred is added though optionally. These additional variables are also defined to help in running other functions particularly for the BellMan-Ford algorithm. \n",
    "\n",
    "<br>\n",
    "#####  Other Sub-Functions: \n",
    "\n",
    "1. \\__str__(): added to help fasten the access to the key, as well as help during printing.\n",
    "2. \\__getitem__(): used to help access data by accesing the vertex as a list defined by `self.compiled`; used in `pointgraph.add_edge()`\n",
    "3. get_connections(): used to help verify connections of the vertex in the graph; used in testing the code\n",
    "4. connect_count(): used to count connections to verify accuracy of the `pointgraph.add_edge()` function\n",
    "\n",
    "<br>\n",
    "\n",
    "####  ${bellman\\_ford()}$ function;\n",
    "> Since the algorithm needs to return a dictionary of shortest paths or None depending on the existence of a negative cycle, `neg_cycle = False` is initially set. Additionally, since the algorithm's while loop would run n (number of vertices) - 1 times, `iters = len(g.vertices) - 1` is also set. \n",
    ">\n",
    "> As per the bellman_ford algorithm, the algorithm starts with a for loop to set all vertex distance to +inf as well as set the `vertex.pred` to `None`. Then the starting vertex's distance is set to 0. \n",
    ">\n",
    "> As per the bellman-ford algorithm, the edges are relaxed n-1 times. This is because for any point *v* in a graph, there can only be n-1 edges/paths from point *s* (starting  point) which the shortest paths is comprised of. Therefore, at-most there are n-1 times each shortest path is updated. Also, only n-1 iterations are needed since BellmanFord is not a greedy algorithm compared to Dijsktra's as BellmanFord updates the shortest path for each of the vertices. \n",
    ">\n",
    "> A for loop is used inside the while loop to execute the path-relaxation process. Using the inequality, `edge[0].distance + edge[2] < edge[1].distance`  *(start_vertex.distance + edge weight < to_vertex.distance)*, each of the shortest path for each vertices is updated. Note that the edges accessed by the for loop is in a list form `[start_vertex.distance, to_vertex.distance, edge weight]` which allows the vertices and the edge weight to be accessed easily. \n",
    ">\n",
    "> After the while loop is done, the same procedure inside the while loop is run to detect any negative cycles. A negative cycle is detected if after n-1 iterations a path is still gets relaxed. If a negative cycle is detected, `neg_cycle` becomes `True` and the vertices of the edge(s) affected by the negative cycle would have their distance set to -inf. \n",
    "> After checking for negative cycles, the `shortest_paths` dictionary is defined and a for loop is run to add all of the vertices and their edges in the dictionary. This will  happen even if it detects a negative cycle however it would not be returned. A final if-statement is added to properly return the correct intended result: if `neg_cycle == False`, then it would return `shortest_paths` as per the prompt else, it would return  `None`. \n"
   ]
  },
  {
   "cell_type": "markdown",
   "metadata": {},
   "source": [
    "-------------------------------"
   ]
  }
 ],
 "metadata": {
  "kernelspec": {
   "display_name": "Python 3",
   "language": "python",
   "name": "python3"
  },
  "language_info": {
   "codemirror_mode": {
    "name": "ipython",
    "version": 3
   },
   "file_extension": ".py",
   "mimetype": "text/x-python",
   "name": "python",
   "nbconvert_exporter": "python",
   "pygments_lexer": "ipython3",
   "version": "3.8.3"
  }
 },
 "nbformat": 4,
 "nbformat_minor": 2
}
