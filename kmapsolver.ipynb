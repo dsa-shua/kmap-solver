{
 "cells": [
  {
   "cell_type": "markdown",
   "metadata": {},
   "source": [
    "**Name: Dela Rosa, Joshua**\n",
    "ID: 2019142208"
   ]
  },
  {
   "cell_type": "markdown",
   "metadata": {},
   "source": [
    "# KMAP Solver\n",
    "----\n",
    "**How to run solver:**\n",
    "1. Import the following <u>kmap.py</u> file with the following methods included. The import code is already prepared to be entered below.\n",
    "2. Specify the minterms in list form. For example: `minterms = [0,1,3,4,5]`. It does not need the minterms to be arranged in any specific order.\n",
    "3. To start the program, enter the number of variables and the list in the form: `kmap(variables, minterms)`.\n",
    "4. The application will solve the Minimum Sum of Products of the given minterms as well as print out a simple illustration of the K-MAP.\n",
    "5. The output of the KMAP solver is interpreted as follows:\n",
    "> 1. The digits are arranged as $x_{1}$$x_{2}$$x_{3}$ for 3 variables and $x_{1}$$x_{2}$$x_{3}$$x_{4}$ for 4 variables.\n",
    "> 2. 0 stands for ${x'}$ and 1 stands for ${x}$. \n",
    "> 3. All of the ${*}$ are ignored when reading the outputs.\n",
    "> \n",
    "> For example: \\[ ${*11}$ + ${11*}$ + ${1*1}$ + ${000}$ \\] is read as \\[ $x_{2}$$x_{3}$ + $x_{1}$$x_{2}$ + $x_{1}$$x_{3}$ + $x'_{1}$$x'_{2}$$x'_{3}$ \\].\n"
   ]
  },
  {
   "cell_type": "markdown",
   "metadata": {},
   "source": [
    "Hit `enter` on the cell below to import the `kmap.py` file:"
   ]
  },
  {
   "cell_type": "code",
   "execution_count": 1,
   "metadata": {},
   "outputs": [],
   "source": [
    "from kmap import Minterm, Group, kmap"
   ]
  },
  {
   "cell_type": "markdown",
   "metadata": {},
   "source": [
    "Use the space below to call and run the program:"
   ]
  },
  {
   "cell_type": "code",
   "execution_count": null,
   "metadata": {},
   "outputs": [],
   "source": [
    "\n",
    "\n",
    "\n",
    "\n"
   ]
  },
  {
   "cell_type": "markdown",
   "metadata": {},
   "source": [
    "---"
   ]
  },
  {
   "cell_type": "markdown",
   "metadata": {},
   "source": [
    "**Sample Input and Outputs:**"
   ]
  },
  {
   "cell_type": "markdown",
   "metadata": {},
   "source": [
    "3 Variable K-Map"
   ]
  },
  {
   "cell_type": "code",
   "execution_count": 2,
   "metadata": {},
   "outputs": [
    {
     "name": "stdout",
     "output_type": "stream",
     "text": [
      "=========   3 Variable K-Map   =========\n",
      "\n",
      "\\BC  [00] [01] [11] [10] \n",
      "A 0| [[1], [1], [1], [0]]\n",
      "  1| [[0], [0], [1], [0]]\n",
      "\n",
      "========================================\n",
      "Minterms are:\n",
      "[0, 1, 3, 7]\n",
      "Minimal Sum of Products: [ *11 + 00* ]\n"
     ]
    }
   ],
   "source": [
    "minterm_3 = [0,1,3,7]\n",
    "three_variables = kmap(3,minterm_3)"
   ]
  },
  {
   "cell_type": "code",
   "execution_count": 3,
   "metadata": {},
   "outputs": [
    {
     "name": "stdout",
     "output_type": "stream",
     "text": [
      "=========   3 Variable K-Map   =========\n",
      "\n",
      "\\BC  [00] [01] [11] [10] \n",
      "A 0| [[1], [0], [1], [0]]\n",
      "  1| [[0], [1], [1], [1]]\n",
      "\n",
      "========================================\n",
      "Minterms are:\n",
      "[0, 3, 5, 6, 7]\n",
      "Minimal Sum of Products: [ *11 + 11* + 1*1 + 000 ]\n"
     ]
    }
   ],
   "source": [
    "min_3 = [0,3,5,6,7]\n",
    "three_var = kmap(3,min_3)"
   ]
  },
  {
   "cell_type": "markdown",
   "metadata": {},
   "source": [
    "4 Variable K-Map"
   ]
  },
  {
   "cell_type": "code",
   "execution_count": 4,
   "metadata": {},
   "outputs": [
    {
     "name": "stdout",
     "output_type": "stream",
     "text": [
      "=========   4 Variable K-Map   =========\n",
      "\n",
      "  \\CD  [00] [01] [11] [10] \n",
      "AB 00| [[1], [0], [0], [0]]\n",
      "   01| [[0], [1], [1], [1]]\n",
      "   11| [[0], [0], [0], [1]]\n",
      "   10| [[0], [0], [0], [1]]\n",
      "\n",
      "========================================\n",
      "Minterms are:\n",
      "[0, 5, 6, 7, 10, 14]\n",
      "Minimal Sum of Products: [ 01*1 + 1*10 + 0000 + 011* ]\n"
     ]
    }
   ],
   "source": [
    "minterm_4 = [0,5,6,7,10,14]\n",
    "four_variables = kmap(4,minterm_4)"
   ]
  },
  {
   "cell_type": "code",
   "execution_count": 5,
   "metadata": {},
   "outputs": [
    {
     "name": "stdout",
     "output_type": "stream",
     "text": [
      "=========   4 Variable K-Map   =========\n",
      "\n",
      "  \\CD  [00] [01] [11] [10] \n",
      "AB 00| [[0], [0], [0], [1]]\n",
      "   01| [[1], [1], [0], [1]]\n",
      "   11| [[0], [1], [1], [1]]\n",
      "   10| [[0], [0], [0], [1]]\n",
      "\n",
      "========================================\n",
      "Minterms are:\n",
      "[2, 4, 5, 6, 10, 13, 14, 15]\n",
      "Minimal Sum of Products: [ **10 + 010* + 11*1 ]\n"
     ]
    }
   ],
   "source": [
    "min_4 = [2,4,5,6,10,13,14,15]\n",
    "four_var = kmap(4, min_4)"
   ]
  },
  {
   "cell_type": "markdown",
   "metadata": {},
   "source": [
    "---"
   ]
  }
 ],
 "metadata": {
  "kernelspec": {
   "display_name": "Python 3",
   "language": "python",
   "name": "python3"
  },
  "language_info": {
   "codemirror_mode": {
    "name": "ipython",
    "version": 3
   },
   "file_extension": ".py",
   "mimetype": "text/x-python",
   "name": "python",
   "nbconvert_exporter": "python",
   "pygments_lexer": "ipython3",
   "version": "3.8.3"
  }
 },
 "nbformat": 4,
 "nbformat_minor": 4
}
